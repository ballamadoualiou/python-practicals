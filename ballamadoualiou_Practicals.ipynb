{
 "cells": [
  {
   "cell_type": "markdown",
   "metadata": {},
   "source": [
    "<center>\n",
    "    <a href=\"https://www.aims-senegal.org/\" ><img src=\"aimssn_logo.png\" style=\"float:center; max-width: 600px; display: inline\" alt=\"IMSP\"/> </a>\n",
    "    </center>\n",
    "    \n",
    "#    <center> <b> <span style=\"color:orange;\" >  `Python for Scientific Computing and Software Engineering ` </span> </b></center>\n",
    "\n",
    "\n",
    "## <center> <b> <span style=\"color:orange;\"> An Initiation to Programming using Python (Init2Py) </span> </b></center>\n",
    "\n",
    "### <center> <b> <span style=\"color:blue;\"> Practicals: Variables, Types & Operations </span> </b></center>"
   ]
  },
  {
   "cell_type": "markdown",
   "metadata": {},
   "source": [
    "**Exercise 00:**  \n",
    "\n",
    "> 1. Declare a variable `firstname` and assign it a value.\n",
    "> 2. Declare a `lastname` variable and assign a value to it.\n",
    "> 3. Declare a `full_name` variable and assign it a value.\n",
    "> 4. Declare a `country` variable and assign it a value.\n",
    "> 5. Declare a variable `city` and assign it a value.\n",
    "> 6. Declare a `age` variable and assign it a value.\n",
    "> 7. Declare a variable `year` and assign it a value.\n",
    "> 8. Declare a variable `is_marrie` and assign it a value.\n",
    "> 9. Declare a variable `is_true` and assign it a value.\n",
    "\n",
    "> For each of the above variable, display the value it contains using the `print()` function.\n",
    "\n",
    "\n"
   ]
  },
  {
   "cell_type": "code",
   "execution_count": 16,
   "metadata": {},
   "outputs": [
    {
     "name": "stdout",
     "output_type": "stream",
     "text": [
      "Amadou\n",
      "Aliou\n",
      "Ball\n",
      "Senegal\n",
      "Sint-Louis\n",
      "26\n",
      "2021\n",
      "False\n",
      "False\n"
     ]
    }
   ],
   "source": [
    "firstname ='Amadou'\n",
    "lastname ='Aliou'\n",
    "full_name ='Ball'\n",
    "country ='Senegal'\n",
    "city ='Sint-Louis'\n",
    "age = 26\n",
    "year= 2021\n",
    "is_marrie=False\n",
    "is_true=False\n",
    "print(firstname)\n",
    "print (lastname)\n",
    "print(full_name)\n",
    "print(country)\n",
    "print(city)\n",
    "print(age)\n",
    "print(year)\n",
    "print(is_marrie)\n",
    "print(is_true)\n",
    "\n"
   ]
  },
  {
   "cell_type": "markdown",
   "metadata": {},
   "source": [
    "**Exercise 01:** \n",
    "> Check the data type of all your variables using the built-in function `type()`.**\n"
   ]
  },
  {
   "cell_type": "code",
   "execution_count": 19,
   "metadata": {},
   "outputs": [
    {
     "data": {
      "text/plain": [
       "bool"
      ]
     },
     "execution_count": 19,
     "metadata": {},
     "output_type": "execute_result"
    }
   ],
   "source": [
    "type(firstname)\n",
    "type(lastname)\n",
    "type(full_name)\n",
    "type(country)\n",
    "type(city)\n",
    "type(age)\n",
    "type(year)\n",
    "type(is_marrie)\n",
    "type(is_true)"
   ]
  },
  {
   "cell_type": "markdown",
   "metadata": {},
   "source": [
    "**Exercise 02:** \n",
    "> Calculate the value of $y$ ($y = x^2 + 6x + 9$). Try using different values of $x$ and determine at what value of $x$ will $y$ be equal to 0.**"
   ]
  },
  {
   "cell_type": "markdown",
   "metadata": {},
   "source": []
  },
  {
   "cell_type": "code",
   "execution_count": 1,
   "metadata": {},
   "outputs": [
    {
     "name": "stdout",
     "output_type": "stream",
     "text": [
      "0\n"
     ]
    }
   ],
   "source": [
    "x=-3\n",
    "y=x**2+6*x+9\n",
    "print(y)"
   ]
  },
  {
   "cell_type": "markdown",
   "metadata": {},
   "source": [
    "**Exercise 03:** \n",
    ">    \n",
    "     1. Declare your age as an integer variable\n",
    "     2. Declare your height as a float variable\n",
    "     3. Declare a variable that stores the base and height of a triangle. Calculate the area of this triangle (area = 0.5 x b x h)."
   ]
  },
  {
   "cell_type": "code",
   "execution_count": 3,
   "metadata": {},
   "outputs": [
    {
     "name": "stdout",
     "output_type": "stream",
     "text": [
      "entrer la base:2\n",
      "entrer la height:3\n",
      "l'aire est 3.0\n"
     ]
    }
   ],
   "source": [
    "base =input(\"entrer la base:\")\n",
    "base=int(base)\n",
    "height=input(\"entrer la height:\")\n",
    "height=float(height)\n",
    "area=0.5*base*height\n",
    "print(\"l'aire est\",area)"
   ]
  },
  {
   "cell_type": "markdown",
   "metadata": {},
   "source": [
    "## *Tip: receiving input from the user *\n",
    "**To receive an input from the user, we use `input()`.**.\n",
    "\n",
    "**Example**\n",
    "Receive two numbers as input from the user and calculate their power:\n",
    "```python\n",
    "base = input(\"Enter a base: \")\n",
    "exponent = input(\"Enter an exponent: \")\n",
    "result = float(base) ** float(exponent)\n",
    "print(f \"{base} to the power of {exponent} = {result}\")\n",
    "```"
   ]
  },
  {
   "cell_type": "markdown",
   "metadata": {},
   "source": [
    "**Exercise 04:** \n",
    "> **Write a small code that asks the user to enter the side $a$, the side $b$ and the side $c$ of a triangle. Calculate the perimeter of the triangle (perimeter = a + b + c).**"
   ]
  },
  {
   "cell_type": "code",
   "execution_count": 4,
   "metadata": {},
   "outputs": [
    {
     "name": "stdout",
     "output_type": "stream",
     "text": [
      "entrer a:3\n",
      "entrer b:5\n",
      "entrer c:8\n",
      "le perimetre 16\n"
     ]
    }
   ],
   "source": [
    "a =input(\"entrer a:\")\n",
    "a=int(a)\n",
    "b=input(\"entrer b:\")\n",
    "b=int(b)\n",
    "c =input(\"entrer c:\")\n",
    "c=int(c)\n",
    "perimetre=a+b+c\n",
    "print(\"le perimetre\",perimetre)\n",
    "\n"
   ]
  },
  {
   "cell_type": "markdown",
   "metadata": {},
   "source": [
    "**Exercise 05:** \n",
    "> **Obtain the length and width of a rectangle using the prompt. Calculate its `area`and its `perimeter`.**"
   ]
  },
  {
   "cell_type": "code",
   "execution_count": 5,
   "metadata": {},
   "outputs": [
    {
     "name": "stdout",
     "output_type": "stream",
     "text": [
      "entrer A:3\n",
      "entrer L:6\n",
      "perimetre est  18\n",
      "l'aire est  18\n"
     ]
    }
   ],
   "source": [
    "A=input(\"entrer A:\")\n",
    "A=int(A)\n",
    "L=input(\"entrer L:\")\n",
    "L=int(L)\n",
    "aire=A*L\n",
    "perimetre=L+A+L+A\n",
    "print(\"perimetre est \",perimetre)\n",
    "print(\"l'aire est \",aire)\n"
   ]
  },
  {
   "cell_type": "markdown",
   "metadata": {},
   "source": [
    "**Exercice 06:** \n",
    "> **Obtenez le rayon d'un cercle en utilisant l'invite. Calculez l'aire (aire = pi x r x r) et la circonférence (c = 2 x pi x r) où pi = 3,14.**"
   ]
  },
  {
   "cell_type": "code",
   "execution_count": 6,
   "metadata": {},
   "outputs": [
    {
     "name": "stdout",
     "output_type": "stream",
     "text": [
      "entrer r:3\n",
      "l'aire est  18\n",
      "perimetre est  18.84\n"
     ]
    }
   ],
   "source": [
    "r=input(\"entrer r:\")\n",
    "r=float(r)\n",
    "pi=3.14\n",
    "air=pi*r*r\n",
    "perimetre=2*pi*r\n",
    "print(\"l'aire est \",aire)\n",
    "print(\"perimetre est \",perimetre)\n"
   ]
  },
  {
   "cell_type": "markdown",
   "metadata": {},
   "source": [
    "**Exercice 07:**\n",
    "> **Calculez la pente, l'ordonnée à l'origine en x et l'ordonnée à l'origine en $y$ de $y = 2x -2$.**"
   ]
  },
  {
   "cell_type": "code",
   "execution_count": 7,
   "metadata": {},
   "outputs": [
    {
     "name": "stdout",
     "output_type": "stream",
     "text": [
      "la pente est 2\n",
      "l'ordonnee a l'origine en x -2\n",
      "l'ordonnee a l'origine en y 1\n"
     ]
    }
   ],
   "source": [
    "print(\"la pente est\",2)\n",
    "print(\"l'ordonnee a l'origine en x\",-2)\n",
    "print(\"l'ordonnee a l'origine en y\",1)"
   ]
  },
  {
   "cell_type": "markdown",
   "metadata": {},
   "source": [
    "**Exercice 08:** \n",
    "> **Rédigez un script qui demande à l'utilisateur d'entrer les heures et le taux horaire. Calculez la rémunération de la personne ?**"
   ]
  },
  {
   "cell_type": "code",
   "execution_count": 9,
   "metadata": {},
   "outputs": [
    {
     "name": "stdout",
     "output_type": "stream",
     "text": [
      "entrer les heures2\n",
      "entrer le taux5\n",
      "la renumeration s'eleve a 10\n"
     ]
    }
   ],
   "source": [
    "h=input(\"entrer les heures\")\n",
    "h=int(h)\n",
    "taux=input(\"entrer le taux\")\n",
    "taux=int(taux)\n",
    "renumeration=h*taux\n",
    "print(\"la renumeration s'eleve a\",renumeration)"
   ]
  },
  {
   "cell_type": "markdown",
   "metadata": {},
   "source": [
    "**Exercice 09:** \n",
    "> **Écrivez un script qui demande à l'utilisateur d'entrer le nombre d'années. Calculez le nombre de secondes qu'une personne peut vivre. Supposons qu'une personne puisse vivre cent ans.**"
   ]
  },
  {
   "cell_type": "code",
   "execution_count": 11,
   "metadata": {},
   "outputs": [
    {
     "name": "stdout",
     "output_type": "stream",
     "text": [
      "donner le nobre dannee:2\n",
      "le temps vecu est en seconde 62208000\n"
     ]
    }
   ],
   "source": [
    "a=input(\"donner le nobre dannee:\")\n",
    "a=int(a)\n",
    "tv=a*31104000\n",
    "print(\"le temps vecu est en seconde\", tv)\n"
   ]
  },
  {
   "cell_type": "markdown",
   "metadata": {},
   "source": [
    "**Exercice 10:** \n",
    "> **Écrivez un script Python qui affiche le tableau suivant**\n",
    "\n",
    "    1 1 1 1 1\n",
    "    \n",
    "    2 1 2 4 8\n",
    "    \n",
    "    3 1 3 9 27\n",
    "    \n",
    "    4 1 4 16 64\n",
    "    \n",
    "    5 1 5 25 125"
   ]
  },
  {
   "cell_type": "code",
   "execution_count": 6,
   "metadata": {},
   "outputs": [
    {
     "name": "stdout",
     "output_type": "stream",
     "text": [
      "1 1 1 1 1\n",
      "2 1 2 4 8\n",
      "3 1 3 9 27\n",
      "4 1 4 16 64\n",
      "5 1 5 25 125\n"
     ]
    }
   ],
   "source": [
    "print(\"1 1 1 1 1\")\n",
    "print(\"2 1 2 4 8\")\n",
    "print(\"3 1 3 9 27\")\n",
    "print(\"4 1 4 16 64\")\n",
    "print(\"5 1 5 25 125\")"
   ]
  },
  {
   "cell_type": "markdown",
   "metadata": {},
   "source": [
    "**Exercise 11:** \n",
    ">**Assign the variables `time` and `distance` with the values $6.892$ and $19.7$. Calculate and display the value of the speed. Improve the display by imposing a digit after the decimal point.**"
   ]
  },
  {
   "cell_type": "code",
   "execution_count": 14,
   "metadata": {},
   "outputs": [
    {
     "name": "stdout",
     "output_type": "stream",
     "text": [
      "la distesse est 2.8583865351131745\n",
      "la vitesse pour un chiffre apres la virgule 2.9\n"
     ]
    }
   ],
   "source": [
    "t=6.892\n",
    "d=19.7\n",
    "v=d/t\n",
    "print(\"la distesse est\", v)\n",
    "k=round(v, 1)\n",
    "print(\"la vitesse pour un chiffre apres la virgule\", k )"
   ]
  },
  {
   "cell_type": "markdown",
   "metadata": {},
   "source": [
    "**Exercice 12:** \n",
    "> **Écrire un programme qui, à partir de la saisie d’un rayon et d’une hauteur, calcule levolume d’un cône droit.**"
   ]
  },
  {
   "cell_type": "code",
   "execution_count": 4,
   "metadata": {},
   "outputs": [
    {
     "name": "stdout",
     "output_type": "stream",
     "text": [
      "entrer le rayon r:3\n",
      "entrer la hauteur h:4\n",
      "le volume est 37.68\n"
     ]
    }
   ],
   "source": [
    "r=float(input(\"entrer le rayon r:\"))\n",
    "h=int(input(\"entrer la hauteur h:\"))\n",
    "pi=3.14\n",
    "Volume=1/3*pi*(r**2)*h\n",
    "print(\"le volume est\", Volume)"
   ]
  },
  {
   "cell_type": "markdown",
   "metadata": {},
   "source": [
    "**Exercise 13:** \n",
    "> **The user gives a positive integer and the program announces how many times in a row this integer is divisible by 2.**"
   ]
  },
  {
   "cell_type": "code",
   "execution_count": null,
   "metadata": {},
   "outputs": [],
   "source": [
    "N=int(input(\"Donner un entier positif\"))\n",
    "d=0\n",
    "while(N%2==0):\n",
    "    d=d+1\n",
    "    N=N/2\n",
    "print(\"le nombre de fois est\", d)\n",
    "\n"
   ]
  },
  {
   "cell_type": "markdown",
   "metadata": {},
   "source": [
    "**Exercise 14:** \n",
    ">**The user gives an integer between 2 and 12, the program gives the number of ways to do this by rolling two dice."
   ]
  },
  {
   "cell_type": "code",
   "execution_count": null,
   "metadata": {},
   "outputs": [],
   "source": [
    "n= int(input(\"donner un n compris entre 2 et 12: \"))\n",
    "D1=int(input(\"donner le resultat du premier de: \"))\n",
    "D2=int(input(\"donner le resultat du deuxieme de: \"))\n",
    "while(n!=(D1+D2)):\n",
    "    D1=int(input(\"donner le resultat du premier de: \"))\n",
    "    D2=int(input(\"donner le resultat du deuxieme de: \"))\n",
    "    \n",
    "    \n",
    "print(\"Le jeux est OK\")"
   ]
  },
  {
   "cell_type": "markdown",
   "metadata": {},
   "source": [
    "### **Exercice 15:** \n",
    "> **Utilisez la fonction d'entrée intégrée `input()` pour obtenir le `_prénom_`, le `_nom_`, le `_pays_d_origine` et l'`_age_` d'un utilisateur et stockez la valeur dans les noms des variables correspondantes.**"
   ]
  },
  {
   "cell_type": "code",
   "execution_count": 4,
   "metadata": {},
   "outputs": [
    {
     "name": "stdout",
     "output_type": "stream",
     "text": [
      "doner le prenom:amadou\n",
      "doner le nom:ball\n",
      "doner le nom du pays origine:senegal\n",
      "doner votre age:26\n",
      "_prenom: amadou\n",
      "_nom: ball\n",
      "_pays origine: senegal\n",
      "_age: 26\n"
     ]
    }
   ],
   "source": [
    "_prenom=input(\"doner le prenom:\")\n",
    "_nom=input(\"doner le nom:\")\n",
    "_paysorigine=input(\"doner le nom du pays origine:\")\n",
    "_age=input(\"doner votre age:\")\n",
    "print(\"_prenom:\", _prenom )\n",
    "print(\"_nom:\", _nom)\n",
    "print(\"_pays origine:\", _paysorigine)\n",
    "print(\"_age:\", _age)"
   ]
  },
  {
   "cell_type": "markdown",
   "metadata": {},
   "source": [
    "**Exercice 16:** \n",
    "\n",
    "**Déclarer $5$ comme `num_one` et $4$ comme `num_two`**\n",
    "\n",
    "   1. Additionner `num_one` et `num_two` et affecter la valeur à une variable `totale`.\n",
    "   2. Soustraire `num_two` de `num_one` et affecter la valeur à une variable `diff`.\n",
    "   3. Multipliez le `num_one` et le `num_two` et attribuez la valeur à une variable `produit`.\n",
    "   4. Divisez le `num_one` par le `num_two` et attribuez la valeur à une variable `division`.\n",
    "   5. Calculez `num_one` à la puissance de `num_two` et attribuez la valeur à une variable `exp`."
   ]
  },
  {
   "cell_type": "code",
   "execution_count": 1,
   "metadata": {},
   "outputs": [
    {
     "name": "stdout",
     "output_type": "stream",
     "text": [
      "la somme est 9\n",
      "le produit est 9\n",
      "la division est 1.25\n",
      "la puissance est 625\n"
     ]
    }
   ],
   "source": [
    "num_one=5\n",
    "num_two=4\n",
    "totale=num_one+num_two\n",
    "diff=num_two+num_one\n",
    "produit=num_one*num_two\n",
    "division=num_one/num_two\n",
    "exp=num_one**num_two\n",
    "print(\"la somme est\", totale)\n",
    "print(\"le produit est\", diff)\n",
    "print(\"la division est\", division)\n",
    "print(\"la puissance est\", exp)"
   ]
  },
  {
   "cell_type": "markdown",
   "metadata": {},
   "source": [
    "<center> <b> <span style=\"color:orange;\"> 🎉 FÉLICITATIONS! / CONGRATULATIONS! 🎉 </span> </b></center>"
   ]
  }
 ],
 "metadata": {
  "kernelspec": {
   "display_name": "Python 3",
   "language": "python",
   "name": "python3"
  },
  "language_info": {
   "codemirror_mode": {
    "name": "ipython",
    "version": 3
   },
   "file_extension": ".py",
   "mimetype": "text/x-python",
   "name": "python",
   "nbconvert_exporter": "python",
   "pygments_lexer": "ipython3",
   "version": "3.7.3"
  }
 },
 "nbformat": 4,
 "nbformat_minor": 5
}
